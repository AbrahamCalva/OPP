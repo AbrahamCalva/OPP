{
 "cells": [
  {
   "cell_type": "markdown",
   "id": "09feb6a7-3b3f-43b4-97ec-8ed8dac24108",
   "metadata": {},
   "source": [
    "<img src=\"./Diagramas_clases/03_herencia.png\" alt= \"Ex 3\" width= \"500\">"
   ]
  },
  {
   "cell_type": "markdown",
   "id": "dab64804",
   "metadata": {
    "vscode": {
     "languageId": "plaintext"
    }
   },
   "source": [
    "## Clase Employee\n",
    "\n",
    "- ⁠**int id**: Atributo de instancia. Identificador unico para cada instancia de ⁠ ``Employee`` ⁠.\n",
    "- ⁠**int new_id**: Atributo de clase. Identificador unico.\n",
    "- ⁠**void say_id()**:  Imprime 'Mi id es: {self.id}."
   ]
  },
  {
   "cell_type": "code",
   "execution_count": 5,
   "id": "73e46bc7-8466-440b-96cb-d4837a9e86e5",
   "metadata": {},
   "outputs": [],
   "source": [
    "class Employee:\n",
    "    new_id = 1\n",
    "    \n",
    "    def __init__(self):\n",
    "        self.id = Employee.new_id        \n",
    "        Employee.new_id += 1\n",
    "        \n",
    "    def say_id(self):\n",
    "        print(f'Mi id es {self.id}')"
   ]
  },
  {
   "cell_type": "code",
   "execution_count": 6,
   "id": "01e509ea-9489-457a-8547-17cc33436595",
   "metadata": {},
   "outputs": [
    {
     "name": "stdout",
     "output_type": "stream",
     "text": [
      "Mi id es 1\n",
      "Mi id es 2\n"
     ]
    }
   ],
   "source": [
    "Savana = Employee()\n",
    "Savana.say_id()\n",
    "\n",
    "Dakota = Employee()\n",
    "Dakota.say_id()"
   ]
  },
  {
   "cell_type": "code",
   "execution_count": 7,
   "id": "6c0f5e45",
   "metadata": {},
   "outputs": [],
   "source": [
    "class Admin(Employee):\n",
    "    def say_id(self):\n",
    "        super().say_id()\n",
    "        print('Soy admin')\n",
    "        "
   ]
  },
  {
   "cell_type": "code",
   "execution_count": 9,
   "id": "cc4cff26-6e20-4ad7-a90d-b92f89d4fb80",
   "metadata": {},
   "outputs": [
    {
     "name": "stdout",
     "output_type": "stream",
     "text": [
      "Mi id es 4\n",
      "Soy admin\n"
     ]
    }
   ],
   "source": [
    "Juan = Admin()\n",
    "Juan.say_id()"
   ]
  },
  {
   "cell_type": "markdown",
   "id": "152d4ab4-d63a-4bd4-ac8d-6fb44059300b",
   "metadata": {},
   "source": [
    "kkk"
   ]
  },
  {
   "cell_type": "code",
   "execution_count": 10,
   "id": "ddd8dbaf-d206-4fc0-95f5-e0e868b1d290",
   "metadata": {},
   "outputs": [],
   "source": [
    "class Manager(Admin):\n",
    "    def say_id(self):\n",
    "        super().say_id()\n",
    "        print('Estoy a cargo')"
   ]
  },
  {
   "cell_type": "code",
   "execution_count": 11,
   "id": "b2f28fb2-b184-4188-8a5c-162ec2902225",
   "metadata": {},
   "outputs": [
    {
     "name": "stdout",
     "output_type": "stream",
     "text": [
      "Mi id es 5\n",
      "Soy admin\n",
      "Estoy a cargo\n"
     ]
    }
   ],
   "source": [
    "Eunice = Manager()\n",
    "Eunice.say_id()"
   ]
  }
 ],
 "metadata": {
  "kernelspec": {
   "display_name": "Python 3 (ipykernel)",
   "language": "python",
   "name": "python3"
  },
  "language_info": {
   "codemirror_mode": {
    "name": "ipython",
    "version": 3
   },
   "file_extension": ".py",
   "mimetype": "text/x-python",
   "name": "python",
   "nbconvert_exporter": "python",
   "pygments_lexer": "ipython3",
   "version": "3.12.2"
  }
 },
 "nbformat": 4,
 "nbformat_minor": 5
}
