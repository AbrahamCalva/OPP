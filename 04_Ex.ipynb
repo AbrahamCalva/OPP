{
 "cells": [
  {
   "cell_type": "markdown",
   "id": "f904165b-dc35-4337-bc76-0a5579d4070d",
   "metadata": {},
   "source": [
    "<img src=\"./Diagramas_clases/04_overrinding.png\" alt= \"Ex 4\" width= \"500\">"
   ]
  },
  {
   "cell_type": "markdown",
   "id": "2cbc8786-bd94-46bd-987b-01c0fb5f070a",
   "metadata": {},
   "source": [
    "## Clase Animal\n",
    "- ⁠**str name**: Atributo de instancia. Nombre del animal.\n",
    "- **void eat()**: Imprime 'Yummy yummy! estoy comiendo.'.\n",
    "- ⁠**void make_noise()**: Imprime '{self.name} hace Grrrr!.'."
   ]
  },
  {
   "cell_type": "markdown",
   "id": "46febce0-5030-44e0-bff5-0eee636c029f",
   "metadata": {},
   "source": [
    "## Clase Cat\n",
    "- **void make_noise()**: Imprime '{self.name} hace Rrrrrr!.'.\n",
    "- **void meow()**: Imprime 'Soy un gato y hago Meow!.'."
   ]
  },
  {
   "cell_type": "markdown",
   "id": "7c63939f-3343-4293-ae92-d6c091ea8a69",
   "metadata": {},
   "source": [
    "## Clase Dog\n",
    "- **void bark()**: Imprime 'Soy un perro y hago woof woof!'."
   ]
  },
  {
   "cell_type": "code",
   "execution_count": 20,
   "id": "d79c58bb-c621-47dd-8fa3-2a8f0d4ec14f",
   "metadata": {},
   "outputs": [],
   "source": [
    "class Animal:\n",
    "    def __init__(self, name):\n",
    "        self.name = name\n",
    "\n",
    "    def eat(self):\n",
    "        print(f'Yummy yummy! estoy comiendo')\n",
    "\n",
    "    def make_noise(self):\n",
    "        print(f'{self.name} hace Rrrrrrr!.')"
   ]
  },
  {
   "cell_type": "code",
   "execution_count": 21,
   "id": "4927d236-beae-4958-abfb-7f3f4fbb9a63",
   "metadata": {},
   "outputs": [
    {
     "name": "stdout",
     "output_type": "stream",
     "text": [
      "Yummy yummy! estoy comiendo\n",
      "Negro hace Rrrrrrr!.\n"
     ]
    }
   ],
   "source": [
    "negro = Animal('Negro')\n",
    "negro.eat()\n",
    "negro.make_noise()"
   ]
  },
  {
   "cell_type": "code",
   "execution_count": 22,
   "id": "3170dc49-9b98-4120-bb72-3d964ed3353d",
   "metadata": {},
   "outputs": [],
   "source": [
    "class Cat(Animal):\n",
    "    def make_noise(self):\n",
    "        print(f'{self.name} hace Rrrrrrr')\n",
    "\n",
    "    def meow(self):\n",
    "        print('Soy un gato y hago meow!.')"
   ]
  },
  {
   "cell_type": "code",
   "execution_count": 23,
   "id": "1efe3dd6-8d56-46e5-94d9-13cfbfad88b5",
   "metadata": {},
   "outputs": [
    {
     "name": "stdout",
     "output_type": "stream",
     "text": [
      "Michu hace Rrrrrrr\n",
      "Soy un gato y hago meow!.\n",
      "Yummy yummy! estoy comiendo\n"
     ]
    }
   ],
   "source": [
    "Michu = Cat('Michu')\n",
    "\n",
    "Michu.make_noise()\n",
    "Michu.meow()\n",
    "Michu.eat()"
   ]
  },
  {
   "cell_type": "code",
   "execution_count": 24,
   "id": "5dee6c8b-1deb-4a3b-af1c-854ec1cbc4a9",
   "metadata": {},
   "outputs": [],
   "source": [
    "class Dog(Animal):\n",
    "    def bark(self):\n",
    "        print(f'Soy {self.name} y hago woof!')\n"
   ]
  },
  {
   "cell_type": "code",
   "execution_count": 25,
   "id": "6219066b-df5a-4a2c-bc05-1038ef688cff",
   "metadata": {},
   "outputs": [
    {
     "name": "stdout",
     "output_type": "stream",
     "text": [
      "Soy firu y hago woof!\n",
      "Yummy yummy! estoy comiendo\n",
      "firu hace Rrrrrrr!.\n"
     ]
    }
   ],
   "source": [
    "firu = Dog('firu')\n",
    "firu.bark()\n",
    "firu.eat()\n",
    "firu.make_noise()"
   ]
  }
 ],
 "metadata": {
  "kernelspec": {
   "display_name": "Python 3 (ipykernel)",
   "language": "python",
   "name": "python3"
  },
  "language_info": {
   "codemirror_mode": {
    "name": "ipython",
    "version": 3
   },
   "file_extension": ".py",
   "mimetype": "text/x-python",
   "name": "python",
   "nbconvert_exporter": "python",
   "pygments_lexer": "ipython3",
   "version": "3.12.2"
  }
 },
 "nbformat": 4,
 "nbformat_minor": 5
}
