{
 "cells": [
  {
   "cell_type": "markdown",
   "id": "d53bad48-b15e-407d-9903-2a66795332ea",
   "metadata": {},
   "source": [
    "<img src=\"./Diagramas_clases/05_herencia_multiple.png\" alt= \"Ex 5\" width= \"500\">"
   ]
  },
  {
   "cell_type": "markdown",
   "id": "57851ace-e9cd-41b9-9baa-0e9579200b1a",
   "metadata": {},
   "source": [
    "## Clase Animal\n",
    "- **str name**: Atributo de instancia. Nombre del animal.\n",
    "- **void eat()**: Imprime 'Yummy yummy! estoy comiendo.'.\n",
    "- **void make_noise()**: Imprime '{self.name} hace Grrrr!.'."
   ]
  },
  {
   "cell_type": "code",
   "execution_count": 1,
   "id": "3f1c17a1-7b58-4cad-b9cb-2e3e396f32e8",
   "metadata": {},
   "outputs": [],
   "source": [
    "class Animal:\n",
    "    def __init__(self, name):\n",
    "        self.name = name\n",
    "        \n",
    "    def eat(self):\n",
    "        print('Yummy yummy! estoy comiendo.')\n",
    "        \n",
    "    def make_noise(self):\n",
    "        print(f'{self.name} hace Grrrr!.')"
   ]
  },
  {
   "cell_type": "code",
   "execution_count": 2,
   "id": "3637fe89-a5a2-4b6f-8ddb-846fc94eb29b",
   "metadata": {},
   "outputs": [
    {
     "name": "stdout",
     "output_type": "stream",
     "text": [
      "Yummy yummy! estoy comiendo.\n",
      "Negro hace Grrrr!.\n"
     ]
    }
   ],
   "source": [
    "Negro = Animal('Negro')\n",
    "Negro.eat()\n",
    "Negro.make_noise()"
   ]
  },
  {
   "cell_type": "markdown",
   "id": "89d775da-c9a9-4d20-96b7-d69b5e586941",
   "metadata": {},
   "source": [
    "## Clase Cat\n",
    "- **void make_noise()**: Imprime '{self.name} hace Rrrrrr!.'.\n",
    "- **void meow()**: Imprime 'Soy un gato y hago Meow!.'."
   ]
  },
  {
   "cell_type": "code",
   "execution_count": 3,
   "id": "3f016788-5aa0-4cb9-b06e-91f3b6dea3cd",
   "metadata": {},
   "outputs": [],
   "source": [
    "class Cat(Animal):\n",
    "    def make_noise(self):\n",
    "        print(f'{self.name} hace Rrrrrr!.')\n",
    "        \n",
    "    def meow(self):\n",
    "        print('Soy un gato y hago Meow!.')"
   ]
  },
  {
   "cell_type": "code",
   "execution_count": 4,
   "id": "55b6db81-46de-4663-86b9-ab84ca64c8e5",
   "metadata": {},
   "outputs": [
    {
     "name": "stdout",
     "output_type": "stream",
     "text": [
      "Michu hace Rrrrrr!.\n",
      "Soy un gato y hago Meow!.\n",
      "Yummy yummy! estoy comiendo.\n"
     ]
    }
   ],
   "source": [
    "Michu = Cat('Michu')\n",
    "Michu.make_noise()\n",
    "Michu.meow()\n",
    "Michu.eat()"
   ]
  },
  {
   "cell_type": "markdown",
   "id": "358c03ad-6a7c-4bac-be54-e0915e91b08c",
   "metadata": {},
   "source": [
    "## Clase Dog\n",
    "- **void action()**: Imprime '{self.name} mueve la cola!'.\n",
    "- **void bark()**: Imprime 'Soy un perro y hago woof woof!'."
   ]
  },
  {
   "cell_type": "code",
   "execution_count": 7,
   "id": "16cbc98f-d415-4b1e-9b0a-24121cad2c99",
   "metadata": {},
   "outputs": [],
   "source": [
    "class Dog(Animal):\n",
    "    def action(self):\n",
    "        print(f'{self.name} mueve la cola!')\n",
    "    def bark(self):\n",
    "        print('Soy un perro y hago woof woof!')"
   ]
  },
  {
   "cell_type": "code",
   "execution_count": 9,
   "id": "22c8f4b0-969c-41a9-b131-bf2254e2940a",
   "metadata": {},
   "outputs": [
    {
     "name": "stdout",
     "output_type": "stream",
     "text": [
      "Firu mueve la cola!\n",
      "Soy un perro y hago woof woof!\n",
      "Yummy yummy! estoy comiendo.\n",
      "Firu hace Grrrr!.\n"
     ]
    }
   ],
   "source": [
    "Firu = Dog('Firu')\n",
    "Firu.action()\n",
    "Firu.bark()\n",
    "Firu.eat()\n",
    "Firu.make_noise()"
   ]
  },
  {
   "cell_type": "markdown",
   "id": "12a00ad7-062e-4b12-a39f-97734d6ade25",
   "metadata": {},
   "source": [
    "## Clase Wolf\n",
    "- **void action()**: Imprime '{self.name} muerde y duele OUCH!'."
   ]
  },
  {
   "cell_type": "code",
   "execution_count": null,
   "id": "86be174c-e8af-4b8b-b5dd-d7c69e71b57d",
   "metadata": {},
   "outputs": [],
   "source": []
  },
  {
   "cell_type": "code",
   "execution_count": 11,
   "id": "1e923c43-88c9-4539-9249-189be5b94d66",
   "metadata": {},
   "outputs": [],
   "source": [
    "class Wolf(Animal):\n",
    "    def action(self):\n",
    "        print(f'{self.name} muerde y duele OUCH!')"
   ]
  },
  {
   "cell_type": "code",
   "execution_count": null,
   "id": "2fa24efa-6ea0-4e92-ba57-7008fb0f9026",
   "metadata": {},
   "outputs": [],
   "source": []
  },
  {
   "cell_type": "code",
   "execution_count": 13,
   "id": "7e96abc2-30aa-471b-9eb2-70efca6f9220",
   "metadata": {},
   "outputs": [
    {
     "name": "stdout",
     "output_type": "stream",
     "text": [
      "Sparco muerde y duele OUCH!\n",
      "Yummy yummy! estoy comiendo.\n",
      "Sparco hace Grrrr!.\n"
     ]
    }
   ],
   "source": [
    "Sparco = Wolf('Sparco')\n",
    "Sparco.action()\n",
    "Sparco.eat()\n",
    "Sparco.make_noise()"
   ]
  },
  {
   "cell_type": "markdown",
   "id": "4cd2f96f-ed9f-4dc2-b980-ab620880c259",
   "metadata": {},
   "source": [
    "## Clase Hybrid\n",
    "- **void action()**: Imprime:\n",
    "    - '{self.name} mueve la cola!'\n",
    "    - '{self.name} muerde y duele OUCH!'"
   ]
  },
  {
   "cell_type": "code",
   "execution_count": 21,
   "id": "c7ee51b6-7cb4-46bd-9784-00e0795eabcc",
   "metadata": {},
   "outputs": [],
   "source": [
    "class Hybrid(Dog, Wolf):\n",
    "    def action(self):\n",
    "        super().action() # Super es para la clase padre de izquierda a derecha\n",
    "        Wolf.action(self) # En este caso al no poder usar el SUPER usamos la siguiente sintaxis\n",
    "        "
   ]
  },
  {
   "cell_type": "code",
   "execution_count": 24,
   "id": "1c59ea2f-88d8-4b76-b949-70fe14b698db",
   "metadata": {},
   "outputs": [
    {
     "name": "stdout",
     "output_type": "stream",
     "text": [
      "Hachi mueve la cola!\n",
      "Hachi muerde y duele OUCH!\n",
      "Soy un perro y hago woof woof!\n",
      "Yummy yummy! estoy comiendo.\n",
      "Hachi hace Grrrr!.\n"
     ]
    }
   ],
   "source": [
    "Hachi = Hybrid('Hachi')\n",
    "Hachi.action()\n",
    "Hachi.bark()\n",
    "Hachi.eat()\n",
    "Hachi.make_noise()"
   ]
  }
 ],
 "metadata": {
  "kernelspec": {
   "display_name": "Python 3 (ipykernel)",
   "language": "python",
   "name": "python3"
  },
  "language_info": {
   "codemirror_mode": {
    "name": "ipython",
    "version": 3
   },
   "file_extension": ".py",
   "mimetype": "text/x-python",
   "name": "python",
   "nbconvert_exporter": "python",
   "pygments_lexer": "ipython3",
   "version": "3.12.2"
  }
 },
 "nbformat": 4,
 "nbformat_minor": 5
}
