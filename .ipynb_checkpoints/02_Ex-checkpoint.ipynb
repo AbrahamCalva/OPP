{
 "cells": [
  {
   "cell_type": "markdown",
   "id": "b9083722-0789-4910-a302-585b4a7ddf1d",
   "metadata": {},
   "source": [
    "## Ejercico 2 de OOP"
   ]
  },
  {
   "cell_type": "markdown",
   "id": "8e09fe4e-8086-4314-8091-0578e80adca0",
   "metadata": {},
   "source": [
    "<img src=\"./Diagramas_clases/02_herencia.png\" alt= \"Ex 2\" width= \"500\">"
   ]
  },
  {
   "cell_type": "markdown",
   "id": "504bbea2-3d0b-4ad6-8f4f-b7e70dce61c4",
   "metadata": {},
   "source": [
    "- **void eat()**: Imprime 'Yummy yummy! estoy comiendo'.\n",
    "- **void meow()**: Imprime 'Soy un gato y hago meow!'.\n",
    "- **void bark()**: Imprime 'Soy un perro y hago woof!'."
   ]
  },
  {
   "cell_type": "code",
   "execution_count": 3,
   "id": "cba9b308-cf0a-474c-9186-53d1343b9fd6",
   "metadata": {},
   "outputs": [],
   "source": [
    "class Animal:\n",
    "    def eat(self):\n",
    "        print(f'Yummy yummy! estoy comiendo')\n",
    "\n",
    "class Cat(Animal):\n",
    "    def meow(self):\n",
    "        print(f'Soy un gato y hago meow!')\n",
    "\n",
    "class Dog(Animal):\n",
    "    def bark(self):\n",
    "        print(f'Soy un perro y hago woof!')\n"
   ]
  },
  {
   "cell_type": "code",
   "execution_count": 4,
   "id": "84317b4f-55c1-4cf9-8831-ded1c32b69e0",
   "metadata": {},
   "outputs": [
    {
     "name": "stdout",
     "output_type": "stream",
     "text": [
      "Soy un gato y hago meow!\n",
      "Soy un perro y hago woof!\n"
     ]
    }
   ],
   "source": [
    "michu = Cat()\n",
    "firulais = Dog()\n",
    "\n",
    "michu.meow()\n",
    "firulais.bark()"
   ]
  }
 ],
 "metadata": {
  "kernelspec": {
   "display_name": "Python 3 (ipykernel)",
   "language": "python",
   "name": "python3"
  },
  "language_info": {
   "codemirror_mode": {
    "name": "ipython",
    "version": 3
   },
   "file_extension": ".py",
   "mimetype": "text/x-python",
   "name": "python",
   "nbconvert_exporter": "python",
   "pygments_lexer": "ipython3",
   "version": "3.12.5"
  }
 },
 "nbformat": 4,
 "nbformat_minor": 5
}
