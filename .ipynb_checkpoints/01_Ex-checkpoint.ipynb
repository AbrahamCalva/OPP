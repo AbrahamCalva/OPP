{
 "cells": [
  {
   "cell_type": "markdown",
   "id": "adf3da02-d7ab-49a9-a458-9df8bebe1d68",
   "metadata": {},
   "source": [
    "## Ejercicio 1 de OPP"
   ]
  },
  {
   "cell_type": "markdown",
   "id": "91cc3258-5279-4c44-863e-570a195d134a",
   "metadata": {},
   "source": [
    "<img src=\"./Diagramas_clases/01_create_class.png\" alt= \"Ex 1\" width= \"500\">"
   ]
  },
  {
   "cell_type": "markdown",
   "id": "cac645ad-7abc-4eea-8bc2-140d5cc86dd3",
   "metadata": {},
   "source": [
    "- **int id:** Asigna un identificador unico a cada instancia `Employee`.\n",
    "- **int new_id:** Variable global de `Employee`.\n",
    "- **void say_id():** Imprime el `id` de la instancia."
   ]
  },
  {
   "cell_type": "code",
   "execution_count": 16,
   "id": "14236923-7ba0-439a-a936-f1fb3a2cb4c3",
   "metadata": {},
   "outputs": [],
   "source": [
    "class Employee:\n",
    "    new_id = 1\n",
    "\n",
    "    def __init__(self, name, age):\n",
    "        self.id = Employee.new_id\n",
    "        self.name = name\n",
    "        self.age = age\n",
    "        Employee.new_id += 1\n",
    "\n",
    "    def say_id(self):\n",
    "        print(f'Mi nombre es {self.name}, mi edad es {self.age} y mi id es: {self.id}')\n",
    "    "
   ]
  },
  {
   "cell_type": "code",
   "execution_count": 17,
   "id": "37740906-9d06-4a1f-85a7-e6f3cd267b51",
   "metadata": {},
   "outputs": [
    {
     "name": "stdout",
     "output_type": "stream",
     "text": [
      "Mi nombre es Savana, mi edad es 22 y mi id es: 1\n",
      "Mi nombre es Dakota, mi edad es 21 y mi id es: 2\n"
     ]
    }
   ],
   "source": [
    "Savana = Employee('Savana', 22)\n",
    "Savana.say_id()\n",
    "\n",
    "Dakota = Employee('Dakota', 21)\n",
    "Dakota.say_id()"
   ]
  }
 ],
 "metadata": {
  "kernelspec": {
   "display_name": "Python 3 (ipykernel)",
   "language": "python",
   "name": "python3"
  },
  "language_info": {
   "codemirror_mode": {
    "name": "ipython",
    "version": 3
   },
   "file_extension": ".py",
   "mimetype": "text/x-python",
   "name": "python",
   "nbconvert_exporter": "python",
   "pygments_lexer": "ipython3",
   "version": "3.12.5"
  }
 },
 "nbformat": 4,
 "nbformat_minor": 5
}
